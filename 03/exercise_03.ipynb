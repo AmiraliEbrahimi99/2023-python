{
 "cells": [
  {
   "cell_type": "markdown",
   "id": "599314be-d694-44a4-a219-5a885511b2be",
   "metadata": {},
   "source": [
    "Ex 01 : \n",
    "Given a list of football matches,define a function to calculate the total number of goals scored in each match.\n",
    "\n",
    "data:"
   ]
  },
  {
   "cell_type": "code",
   "execution_count": 2,
   "id": "7df61d32-7ef4-48c5-b491-9d1f9785b15a",
   "metadata": {},
   "outputs": [],
   "source": [
    "matches = [\n",
    "    {\"team1\": \"Real Madrid\", \"team2\": \"Barcelona\", \"score\": \"2-1\"},\n",
    "    {\"team1\": \"Manchester United\", \"team2\": \"Liverpool\", \"score\": \"1-1\"},\n",
    "    {\"team1\": \"Bayern Munich\", \"team2\": \"Borussia Dortmund\", \"score\": \"3-2\"},\n",
    "]\n"
   ]
  },
  {
   "cell_type": "markdown",
   "id": "15bb6e38-970d-4049-9bcc-90e94e4f9463",
   "metadata": {},
   "source": [
    "Ex 02 : \n",
    "Given a dictionary of football matches, define a function to find the team that has won the most matches.\n",
    "\n",
    "data:"
   ]
  },
  {
   "cell_type": "code",
   "execution_count": 5,
   "id": "71645611-82c2-4dba-a26c-f43a89c31f49",
   "metadata": {},
   "outputs": [],
   "source": [
    "matches = {\n",
    "    \"match1\": {\"team1\": \"Real Madrid\", \"team2\": \"Barcelona\", \"score\": \"2-1\"},\n",
    "    \"match2\": {\"team1\": \"Manchester United\", \"team2\": \"Liverpool\", \"score\": \"4-1\"},\n",
    "    \"match3\": {\"team1\": \"Bayern Munich\", \"team2\": \"Borussia Dortmund\", \"score\": \"3-2\"},\n",
    "}\n"
   ]
  },
  {
   "cell_type": "code",
   "execution_count": null,
   "id": "42441af8-56cc-4b3d-ab0a-b6a6f28ba0d3",
   "metadata": {},
   "outputs": [],
   "source": []
  }
 ],
 "metadata": {
  "kernelspec": {
   "display_name": "Python 3 (ipykernel)",
   "language": "python",
   "name": "python3"
  },
  "language_info": {
   "codemirror_mode": {
    "name": "ipython",
    "version": 3
   },
   "file_extension": ".py",
   "mimetype": "text/x-python",
   "name": "python",
   "nbconvert_exporter": "python",
   "pygments_lexer": "ipython3",
   "version": "3.11.6"
  },
  "widgets": {
   "application/vnd.jupyter.widget-state+json": {
    "state": {},
    "version_major": 2,
    "version_minor": 0
   }
  }
 },
 "nbformat": 4,
 "nbformat_minor": 5
}
