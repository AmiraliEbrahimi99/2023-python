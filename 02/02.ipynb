{
 "cells": [
  {
   "cell_type": "markdown",
   "id": "9531bd01-b65c-400e-9e8e-22be0f5cc65d",
   "metadata": {},
   "source": [
    "![flow1 Image](./flow1.png)"
   ]
  },
  {
   "cell_type": "markdown",
   "id": "8be5414f-3c75-41d4-8b08-268a6afc6b31",
   "metadata": {},
   "source": [
    "از ویدیو های زیر برای یاد گرفتن این مفاهیم میتونین استفاده کنین \n",
    "\n",
    "\n",
    "https://www.youtube.com/watch?v=qAlG4c0efTo&list=PLnEg28Nx10WFuBHjDLlYEJ4JboPIp55Yr&index=6\n",
    "\n",
    "https://www.youtube.com/watch?v=Mmge2TyBZ_Y&list=PLAu43_uf7P1_77h4v3HQv-ZhS_3QA9QvS&index=7\n",
    "\n",
    "https://www.youtube.com/watch?v=qUIKVobRbh0&list=PLAu43_uf7P1_77h4v3HQv-ZhS_3QA9QvS&index=10\n",
    "\n",
    "https://www.youtube.com/watch?v=zkU0K9eiF90&list=PLAu43_uf7P1_77h4v3HQv-ZhS_3QA9QvS&index=11\n",
    "\n"
   ]
  },
  {
   "cell_type": "markdown",
   "id": "c93f3546-4522-45a0-8abb-2a42a8999037",
   "metadata": {},
   "source": [
    "The flow control statements are divided into three categories"
   ]
  },
  {
   "cell_type": "markdown",
   "id": "171d65cb-7c64-41af-947b-982b29bf13b9",
   "metadata": {},
   "source": [
    "![flow Image](./flow.png)\n"
   ]
  },
  {
   "cell_type": "markdown",
   "id": "fe64ba79-4d46-45a3-a5f7-1c6d8c446b6a",
   "metadata": {},
   "source": [
    "# If statement"
   ]
  },
  {
   "cell_type": "markdown",
   "id": "b4ae3a0c-c387-4e3d-a5c9-a194d3c9ad8e",
   "metadata": {},
   "source": [
    "![if Image](./if.png)"
   ]
  },
  {
   "cell_type": "code",
   "execution_count": 4,
   "id": "b9b704be-5019-4a9a-9b7c-f4b44212fb50",
   "metadata": {},
   "outputs": [],
   "source": [
    "names = ['ali' , 'mmd', 'zahra']"
   ]
  },
  {
   "cell_type": "code",
   "execution_count": 4,
   "id": "2610abbc-c368-45a3-971b-9be6329879c5",
   "metadata": {},
   "outputs": [
    {
     "name": "stdin",
     "output_type": "stream",
     "text": [
      " ali\n"
     ]
    }
   ],
   "source": [
    "name = input()\n"
   ]
  },
  {
   "cell_type": "code",
   "execution_count": 5,
   "id": "2805451e-df8a-4c34-b7eb-f6a83463c415",
   "metadata": {},
   "outputs": [
    {
     "name": "stdout",
     "output_type": "stream",
     "text": [
      "ok!\n"
     ]
    }
   ],
   "source": [
    "if name in names : \n",
    "    print('ok!')"
   ]
  },
  {
   "cell_type": "markdown",
   "id": "843d2937-5f4d-4439-be92-f3c553b6608d",
   "metadata": {},
   "source": [
    "# If – else statement"
   ]
  },
  {
   "cell_type": "markdown",
   "id": "0ae53b74-f435-4380-a08d-1c16cefc2d4c",
   "metadata": {},
   "source": [
    "![if_else](./if_else.png)"
   ]
  },
  {
   "cell_type": "code",
   "execution_count": null,
   "id": "57eab652-a842-453b-8c3b-db8be87c5bbf",
   "metadata": {},
   "outputs": [],
   "source": [
    "name = input()"
   ]
  },
  {
   "cell_type": "code",
   "execution_count": 6,
   "id": "31b94242-649f-4535-9ff1-df70a17e65fe",
   "metadata": {},
   "outputs": [
    {
     "name": "stdout",
     "output_type": "stream",
     "text": [
      "ok!\n"
     ]
    }
   ],
   "source": [
    "if name in names : \n",
    "    print('ok!')\n",
    "\n",
    "else : \n",
    "    print('this name is not defined')\n"
   ]
  },
  {
   "cell_type": "code",
   "execution_count": null,
   "id": "e49df4bf-a076-4e43-997c-219223f89b0f",
   "metadata": {},
   "outputs": [],
   "source": []
  },
  {
   "cell_type": "markdown",
   "id": "4de25b14-5a06-429f-ace3-e895da54a43a",
   "metadata": {},
   "source": [
    "# Chain multiple if statement (elif)\n"
   ]
  },
  {
   "cell_type": "code",
   "execution_count": 6,
   "id": "f306169d-229a-456d-ace6-f694736552b0",
   "metadata": {},
   "outputs": [
    {
     "name": "stdin",
     "output_type": "stream",
     "text": [
      "Please enter your age:  45\n"
     ]
    }
   ],
   "source": [
    "age = int(input(\"Please enter your age: \"))"
   ]
  },
  {
   "cell_type": "code",
   "execution_count": 7,
   "id": "55e9e1a7-3134-48bf-aa0a-f24f69a8dbab",
   "metadata": {},
   "outputs": [
    {
     "name": "stdout",
     "output_type": "stream",
     "text": [
      "You are an adult.\n"
     ]
    }
   ],
   "source": [
    "if age < 18:\n",
    "    print(\"You are a minor.\")\n",
    "elif age >= 18 and age < 65:\n",
    "    print(\"You are an adult.\")\n",
    "else:\n",
    "    print(\"You are a senior citizen.\")"
   ]
  },
  {
   "cell_type": "markdown",
   "id": "c8fc6a72-26b2-4df2-bacf-cc2963bc6158",
   "metadata": {},
   "source": [
    "# Loop"
   ]
  },
  {
   "cell_type": "markdown",
   "id": "e3bbcf1d-542a-4a32-9480-01fc784d8c9c",
   "metadata": {},
   "source": [
    "## For"
   ]
  },
  {
   "cell_type": "code",
   "execution_count": null,
   "id": "c67edbea-30d8-4b0d-95fc-0ab787e5dc71",
   "metadata": {},
   "outputs": [],
   "source": [
    "# print('asdihasbd')\n",
    "# z = 209589023203 "
   ]
  },
  {
   "cell_type": "code",
   "execution_count": 18,
   "id": "07d26d1b-16e7-4dcd-8190-83114e083727",
   "metadata": {},
   "outputs": [],
   "source": [
    "# sldfjosdnbfkbsdibfisdbifbvsdibv"
   ]
  },
  {
   "cell_type": "code",
   "execution_count": 8,
   "id": "7212326b-5b0a-410b-965a-359d7705cf60",
   "metadata": {},
   "outputs": [],
   "source": [
    "data = [ \n",
    "    {'product' : 'suger' , 'q' : 12 , 'price' : 7400 , 'sold' :  True} , \n",
    "    {'product' : 'yogurt' , 'q' : 45 , 'price' : 6500 , 'sold' :  False} , \n",
    "    {'product' : 'salt' , 'q' : 45 , 'price' : 500, 'sold' :  True} ,     \n",
    "]"
   ]
  },
  {
   "cell_type": "code",
   "execution_count": 11,
   "id": "14f99884-4995-40de-b8d3-3d6e9e28575e",
   "metadata": {},
   "outputs": [
    {
     "name": "stdout",
     "output_type": "stream",
     "text": [
      "suger\n",
      "salt\n",
      "sold_value is : 111300\n"
     ]
    }
   ],
   "source": [
    "sold_value = 0 \n",
    "for item in data : \n",
    "    if item['sold'] == True : \n",
    "            print(item['product'])\n",
    "            sold_value = (item['price'] * item['q']) + sold_value\n",
    "        \n",
    "\n",
    "print(f'sold_value is : {sold_value}')"
   ]
  },
  {
   "cell_type": "markdown",
   "id": "22425bce-4d44-424a-9dda-c10bc1effb7b",
   "metadata": {},
   "source": [
    "## While"
   ]
  },
  {
   "cell_type": "code",
   "execution_count": 6,
   "id": "f355d79c-a3b9-46f3-b270-f7f4e8cd1438",
   "metadata": {},
   "outputs": [
    {
     "name": "stdout",
     "output_type": "stream",
     "text": [
      "99\n",
      "98\n",
      "97\n",
      "96\n",
      "95\n",
      "94\n",
      "93\n",
      "92\n",
      "91\n",
      "90\n",
      "89\n",
      "88\n",
      "87\n",
      "86\n",
      "85\n",
      "84\n",
      "83\n",
      "82\n",
      "81\n",
      "80\n",
      "79\n",
      "77\n",
      "76\n",
      "75\n",
      "74\n",
      "73\n",
      "72\n",
      "71\n",
      "70\n",
      "69\n",
      "68\n",
      "67\n",
      "66\n",
      "65\n",
      "64\n",
      "63\n",
      "62\n",
      "61\n",
      "60\n",
      "59\n",
      "58\n",
      "57\n",
      "56\n",
      "55\n",
      "54\n",
      "53\n",
      "52\n",
      "51\n",
      "50\n",
      "49\n",
      "last x : 49\n"
     ]
    }
   ],
   "source": [
    "x = 100 \n",
    "while True : \n",
    "\n",
    "    if x < 50 : \n",
    "        break \n",
    "    x -= 1 \n",
    "    if x == 78 : \n",
    "        continue\n",
    "    else : \n",
    "        print(x)\n",
    "    \n",
    "\n",
    "\n",
    "print(f'last x : {x}')"
   ]
  }
 ],
 "metadata": {
  "kernelspec": {
   "display_name": "Python 3 (ipykernel)",
   "language": "python",
   "name": "python3"
  },
  "language_info": {
   "codemirror_mode": {
    "name": "ipython",
    "version": 3
   },
   "file_extension": ".py",
   "mimetype": "text/x-python",
   "name": "python",
   "nbconvert_exporter": "python",
   "pygments_lexer": "ipython3",
   "version": "3.11.6"
  },
  "widgets": {
   "application/vnd.jupyter.widget-state+json": {
    "state": {},
    "version_major": 2,
    "version_minor": 0
   }
  }
 },
 "nbformat": 4,
 "nbformat_minor": 5
}
