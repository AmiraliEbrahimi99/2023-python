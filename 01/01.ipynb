{
 "cells": [
  {
   "cell_type": "markdown",
   "metadata": {
    "id": "l5F1IroAfDMC"
   },
   "source": [
    "# Introduction\n",
    "-  Python itself is typically implemented in the C programming language. The Python interpreter, which is the program responsible for running Python code, is primarily written in C. This CPython implementation is the most widely used and the reference implementation of Python.\n",
    "   \n",
    "-  While CPython is the most common implementation, there are alternative implementations of Python, such as Jython (Python for Java), IronPython (Python for .NET), and PyPy (a Python interpreter written in Python), which use different underlying languages and technologies\n",
    "  \n",
    "- Applications :\n",
    "\n",
    "    - Web Development\n",
    "\n",
    "    - Data Science and Data Analysis\n",
    "\n",
    "    - Scientific Computing\n",
    "\n",
    "    - Artificial Intelligence\n",
    "\n",
    "    - Automation\n",
    "\n",
    "    - Finance\n",
    "\n",
    "    - DevOps and Scripting\n"
   ]
  },
  {
   "cell_type": "markdown",
   "metadata": {
    "id": "jAcPvHPKna9b"
   },
   "source": [
    "# Built-in Data Types\n",
    "\n",
    "In programming, data type is an important concept. Variables can store data of different types, and different types can do different things. Python has the following data types built-in by default, in these categories:\n",
    "\n",
    "- **Text Type:** `str`\n",
    "- **Numeric Types:** `int`, `float`, `complex`\n",
    "- **Sequence Types:** `list`, `tuple`, `range`\n",
    "- **Mapping Type:** `dict`\n",
    "- **Set Types:** `set`, `frozenset`\n",
    "- **Boolean Type:** `bool`\n",
    "- **Binary Types:** `bytes`, `bytearray`, `memoryview`\n",
    "- **None Type:** `NoneType`\n"
   ]
  },
  {
   "cell_type": "markdown",
   "metadata": {
    "id": "_djpZYIgleHX"
   },
   "source": [
    "# Numbers\n"
   ]
  },
  {
   "cell_type": "code",
   "execution_count": null,
   "metadata": {
    "colab": {
     "base_uri": "https://localhost:8080/"
    },
    "id": "NmZ5-XtuTSJ9",
    "outputId": "2a6845f4-51f1-4a7f-c657-5e5215ac3ec8"
   },
   "outputs": [
    {
     "data": {
      "text/plain": [
       "900"
      ]
     },
     "execution_count": 3,
     "metadata": {},
     "output_type": "execute_result"
    }
   ],
   "source": [
    "width = 20\n",
    "height = 5 * 9\n",
    "width * height"
   ]
  },
  {
   "cell_type": "markdown",
   "metadata": {
    "id": "PtAZZ5yaleVv"
   },
   "source": [
    "# String"
   ]
  },
  {
   "cell_type": "code",
   "execution_count": null,
   "metadata": {
    "colab": {
     "base_uri": "https://localhost:8080/",
     "height": 36
    },
    "id": "szU4pSmOTZkZ",
    "outputId": "53f1a9ce-0e1b-4809-8dd6-5fba994c8f84"
   },
   "outputs": [
    {
     "data": {
      "application/vnd.google.colaboratory.intrinsic+json": {
       "type": "string"
      },
      "text/plain": [
       "'P'"
      ]
     },
     "execution_count": 4,
     "metadata": {},
     "output_type": "execute_result"
    }
   ],
   "source": [
    "word = 'Python'\n",
    "word[0]  # character in position 0"
   ]
  },
  {
   "cell_type": "code",
   "execution_count": null,
   "metadata": {
    "colab": {
     "base_uri": "https://localhost:8080/",
     "height": 36
    },
    "id": "EnxLL7E5TagK",
    "outputId": "f72a7a63-9fbd-4d89-c8dc-43a6947f1a67"
   },
   "outputs": [
    {
     "data": {
      "application/vnd.google.colaboratory.intrinsic+json": {
       "type": "string"
      },
      "text/plain": [
       "'Py'"
      ]
     },
     "execution_count": 5,
     "metadata": {},
     "output_type": "execute_result"
    }
   ],
   "source": [
    "word[0:2]  # characters from position 0 (included) to 2 (excluded)"
   ]
  },
  {
   "cell_type": "code",
   "execution_count": null,
   "metadata": {
    "colab": {
     "base_uri": "https://localhost:8080/",
     "height": 36
    },
    "id": "O30_-o68Taip",
    "outputId": "a48edd51-8a99-48c3-d83d-4caec2111f84"
   },
   "outputs": [
    {
     "data": {
      "application/vnd.google.colaboratory.intrinsic+json": {
       "type": "string"
      },
      "text/plain": [
       "'Python'"
      ]
     },
     "execution_count": 6,
     "metadata": {},
     "output_type": "execute_result"
    }
   ],
   "source": [
    "word[:2] + word[2:]"
   ]
  },
  {
   "cell_type": "markdown",
   "metadata": {
    "id": "Q5QK2hqRleiS"
   },
   "source": [
    "# List"
   ]
  },
  {
   "cell_type": "code",
   "execution_count": null,
   "metadata": {
    "id": "WCMCAHBzT2MS"
   },
   "outputs": [],
   "source": [
    "fruits = ['apple', 'banana', 'cherry']"
   ]
  },
  {
   "cell_type": "code",
   "execution_count": null,
   "metadata": {
    "id": "9AKBB-KEUcsJ"
   },
   "outputs": [],
   "source": [
    "fruits.append('date')"
   ]
  },
  {
   "cell_type": "code",
   "execution_count": null,
   "metadata": {
    "colab": {
     "base_uri": "https://localhost:8080/"
    },
    "id": "dlLHoIkbUcya",
    "outputId": "6f714d1c-a4aa-4a1c-eb9a-daa1477ceccd"
   },
   "outputs": [
    {
     "data": {
      "text/plain": [
       "['apple', 'banana', 'cherry', 'date', 'grape', 'fig']"
      ]
     },
     "execution_count": 9,
     "metadata": {},
     "output_type": "execute_result"
    }
   ],
   "source": [
    "fruits.extend(['grape', 'fig'])\n",
    "fruits"
   ]
  },
  {
   "cell_type": "code",
   "execution_count": null,
   "metadata": {
    "id": "oQ5WNQZrUc6f"
   },
   "outputs": [],
   "source": [
    "fruits.insert(2, 'kiwi')"
   ]
  },
  {
   "cell_type": "code",
   "execution_count": null,
   "metadata": {
    "id": "4qB6HTE9Uc7Q"
   },
   "outputs": [],
   "source": [
    "fruits.remove('banana')"
   ]
  },
  {
   "cell_type": "code",
   "execution_count": null,
   "metadata": {
    "id": "PN6aOf2FUc9B"
   },
   "outputs": [],
   "source": [
    "popped = fruits.pop(4)"
   ]
  },
  {
   "cell_type": "code",
   "execution_count": null,
   "metadata": {
    "colab": {
     "base_uri": "https://localhost:8080/",
     "height": 36
    },
    "id": "19h3eUG8Uc_X",
    "outputId": "51b03229-c097-47e5-d4f1-775afcef5542"
   },
   "outputs": [
    {
     "data": {
      "application/vnd.google.colaboratory.intrinsic+json": {
       "type": "string"
      },
      "text/plain": [
       "'grape'"
      ]
     },
     "execution_count": 13,
     "metadata": {},
     "output_type": "execute_result"
    }
   ],
   "source": [
    "popped"
   ]
  },
  {
   "cell_type": "code",
   "execution_count": null,
   "metadata": {
    "colab": {
     "base_uri": "https://localhost:8080/"
    },
    "id": "DopLuxFEVl2o",
    "outputId": "24288fa9-02f9-412a-eb44-1dcf050bb809"
   },
   "outputs": [
    {
     "data": {
      "text/plain": [
       "2"
      ]
     },
     "execution_count": 14,
     "metadata": {},
     "output_type": "execute_result"
    }
   ],
   "source": [
    "index = fruits.index('cherry')\n",
    "index"
   ]
  },
  {
   "cell_type": "code",
   "execution_count": null,
   "metadata": {
    "colab": {
     "base_uri": "https://localhost:8080/"
    },
    "id": "LKKcLArSVm_a",
    "outputId": "eba83566-42d4-42d1-ca10-5d375174b483"
   },
   "outputs": [
    {
     "data": {
      "text/plain": [
       "['apple', 'kiwi', 6, 'date', 'fig']"
      ]
     },
     "execution_count": 27,
     "metadata": {},
     "output_type": "execute_result"
    }
   ],
   "source": [
    "fruits[2] = 6\n",
    "fruits"
   ]
  },
  {
   "cell_type": "markdown",
   "metadata": {
    "id": "2mnvKd6fleui"
   },
   "source": [
    "# Tupels"
   ]
  },
  {
   "cell_type": "code",
   "execution_count": null,
   "metadata": {
    "id": "pErkw8EKEjjo"
   },
   "outputs": [],
   "source": [
    "my_tuple = (1, 2, 3, \"apple\")"
   ]
  },
  {
   "cell_type": "code",
   "execution_count": null,
   "metadata": {
    "colab": {
     "base_uri": "https://localhost:8080/"
    },
    "id": "hkQ_Goe0Ejuj",
    "outputId": "69fd6d4e-66f0-4de0-ee94-ead5bbda8635"
   },
   "outputs": [
    {
     "data": {
      "text/plain": [
       "1"
      ]
     },
     "execution_count": 29,
     "metadata": {},
     "output_type": "execute_result"
    }
   ],
   "source": [
    "my_tuple[0]"
   ]
  },
  {
   "cell_type": "code",
   "execution_count": null,
   "metadata": {
    "id": "4brqAKdVEjvX"
   },
   "outputs": [],
   "source": [
    "sub_tuple = my_tuple[1:3]"
   ]
  },
  {
   "cell_type": "code",
   "execution_count": null,
   "metadata": {
    "id": "gZBmbwYgEjwG"
   },
   "outputs": [],
   "source": [
    "a, b, c, d = my_tuple"
   ]
  },
  {
   "cell_type": "code",
   "execution_count": null,
   "metadata": {
    "colab": {
     "base_uri": "https://localhost:8080/",
     "height": 199
    },
    "id": "llog3MDWEjx6",
    "outputId": "19360aae-3217-49cf-89e8-3bbb0998d850"
   },
   "outputs": [
    {
     "ename": "TypeError",
     "evalue": "ignored",
     "output_type": "error",
     "traceback": [
      "\u001b[0;31m---------------------------------------------------------------------------\u001b[0m",
      "\u001b[0;31mTypeError\u001b[0m                                 Traceback (most recent call last)",
      "\u001b[0;32m<ipython-input-34-1ace7fd1b3dc>\u001b[0m in \u001b[0;36m<cell line: 2>\u001b[0;34m()\u001b[0m\n\u001b[1;32m      1\u001b[0m \u001b[0;31m# Immutability\u001b[0m\u001b[0;34m\u001b[0m\u001b[0;34m\u001b[0m\u001b[0m\n\u001b[0;32m----> 2\u001b[0;31m \u001b[0mmy_tuple\u001b[0m\u001b[0;34m[\u001b[0m\u001b[0;36m0\u001b[0m\u001b[0;34m]\u001b[0m \u001b[0;34m=\u001b[0m \u001b[0;36m5\u001b[0m\u001b[0;34m\u001b[0m\u001b[0;34m\u001b[0m\u001b[0m\n\u001b[0m",
      "\u001b[0;31mTypeError\u001b[0m: 'tuple' object does not support item assignment"
     ]
    }
   ],
   "source": [
    "# Immutability\n",
    "my_tuple[0] = 5"
   ]
  },
  {
   "cell_type": "code",
   "execution_count": null,
   "metadata": {
    "colab": {
     "base_uri": "https://localhost:8080/"
    },
    "id": "qW2x3UQjEj0w",
    "outputId": "a4d3ed0b-f9ed-4ba4-a287-81ca69970f3b"
   },
   "outputs": [
    {
     "data": {
      "text/plain": [
       "4"
      ]
     },
     "execution_count": 35,
     "metadata": {},
     "output_type": "execute_result"
    }
   ],
   "source": [
    "len(my_tuple)"
   ]
  },
  {
   "cell_type": "markdown",
   "metadata": {
    "id": "zmZsr0jele0e"
   },
   "source": [
    "# Dict"
   ]
  },
  {
   "cell_type": "code",
   "execution_count": null,
   "metadata": {
    "id": "zYA69ry6Fn7Y"
   },
   "outputs": [],
   "source": [
    "# Creating a dictionary\n",
    "person = {\"name\": \"Ali\", \"age\": 25, \"occupation\": \"Engineer\"}\n"
   ]
  },
  {
   "cell_type": "code",
   "execution_count": null,
   "metadata": {
    "id": "5zRRWcnHFyoI"
   },
   "outputs": [],
   "source": [
    "person[\"age\"] = 26\n"
   ]
  },
  {
   "cell_type": "code",
   "execution_count": null,
   "metadata": {
    "id": "aUIQqseZF2Ge"
   },
   "outputs": [],
   "source": [
    "person[\"city\"] = \"New York\""
   ]
  },
  {
   "cell_type": "code",
   "execution_count": null,
   "metadata": {
    "id": "087S-MfPF2__"
   },
   "outputs": [],
   "source": [
    "del person[\"occupation\"]"
   ]
  },
  {
   "cell_type": "code",
   "execution_count": null,
   "metadata": {
    "colab": {
     "base_uri": "https://localhost:8080/"
    },
    "id": "xNOqTAsrF3C9",
    "outputId": "49417c1f-b571-4126-cd95-5177a02428a0"
   },
   "outputs": [
    {
     "data": {
      "text/plain": [
       "{'name': 'Ali', 'age': 26, 'city': 'New York'}"
      ]
     },
     "execution_count": 41,
     "metadata": {},
     "output_type": "execute_result"
    }
   ],
   "source": [
    "person"
   ]
  },
  {
   "cell_type": "code",
   "execution_count": null,
   "metadata": {
    "id": "mSKJF_d_F3F2"
   },
   "outputs": [],
   "source": [
    "student = {\n",
    "    \"name\": \"Bob\",\n",
    "    \"grades\": {\"math\": 95, \"science\": 88, \"history\": 72}\n",
    "}"
   ]
  },
  {
   "cell_type": "markdown",
   "metadata": {
    "id": "jsiFDJYCle9t"
   },
   "source": [
    "# Sets"
   ]
  },
  {
   "cell_type": "code",
   "execution_count": null,
   "metadata": {
    "id": "hR3cRfEJHnQ6"
   },
   "outputs": [],
   "source": [
    "my_set = {1, 2, 3}"
   ]
  },
  {
   "cell_type": "code",
   "execution_count": null,
   "metadata": {
    "id": "lhLQ_qONHqIl"
   },
   "outputs": [],
   "source": [
    "my_set.add(4)"
   ]
  },
  {
   "cell_type": "code",
   "execution_count": null,
   "metadata": {
    "id": "iTdgdrNlHqLN"
   },
   "outputs": [],
   "source": [
    "my_set.remove(2)"
   ]
  },
  {
   "cell_type": "code",
   "execution_count": null,
   "metadata": {
    "colab": {
     "base_uri": "https://localhost:8080/",
     "height": 199
    },
    "id": "nVKsZ1xhHqO3",
    "outputId": "8335a56d-39de-4cae-a2f8-ec024442f36f"
   },
   "outputs": [
    {
     "ename": "KeyError",
     "evalue": "ignored",
     "output_type": "error",
     "traceback": [
      "\u001b[0;31m---------------------------------------------------------------------------\u001b[0m",
      "\u001b[0;31mKeyError\u001b[0m                                  Traceback (most recent call last)",
      "\u001b[0;32m<ipython-input-50-7112f3bfe6f5>\u001b[0m in \u001b[0;36m<cell line: 2>\u001b[0;34m()\u001b[0m\n\u001b[1;32m      1\u001b[0m \u001b[0;31m#error\u001b[0m\u001b[0;34m\u001b[0m\u001b[0;34m\u001b[0m\u001b[0m\n\u001b[0;32m----> 2\u001b[0;31m \u001b[0mmy_set\u001b[0m\u001b[0;34m.\u001b[0m\u001b[0mremove\u001b[0m\u001b[0;34m(\u001b[0m\u001b[0;36m2\u001b[0m\u001b[0;34m)\u001b[0m\u001b[0;34m\u001b[0m\u001b[0;34m\u001b[0m\u001b[0m\n\u001b[0m",
      "\u001b[0;31mKeyError\u001b[0m: 2"
     ]
    }
   ],
   "source": [
    "#error\n",
    "my_set.remove(2)"
   ]
  },
  {
   "cell_type": "code",
   "execution_count": null,
   "metadata": {
    "id": "VBy1vWcRHqRh"
   },
   "outputs": [],
   "source": [
    "my_set.discard(5)"
   ]
  },
  {
   "cell_type": "code",
   "execution_count": null,
   "metadata": {
    "colab": {
     "base_uri": "https://localhost:8080/"
    },
    "id": "b4wjJi4DIHNW",
    "outputId": "e8276db0-144f-4c23-814f-4f13805dc7b2"
   },
   "outputs": [
    {
     "name": "stdout",
     "output_type": "stream",
     "text": [
      "union set: {1, 2, 3, 4, 5}\n",
      "intersection set: {3}\n",
      "difference set: {1, 2}\n"
     ]
    }
   ],
   "source": [
    "set1 = {1, 2, 3}\n",
    "set2 = {3, 4, 5}\n",
    "\n",
    "union_set = set1 | set2  # or set1.union(set2)\n",
    "print(f'union set: {union_set}')\n",
    "\n",
    "intersection_set = set1 & set2  # or set1.intersection(set2)\n",
    "print(f'intersection set: {intersection_set}')\n",
    "\n",
    "difference_set = set1 - set2  # or set1.difference(set2)\n",
    "print(f'difference set: {difference_set}')"
   ]
  },
  {
   "cell_type": "markdown",
   "metadata": {
    "id": "VbwiEJfHeuls"
   },
   "source": [
    "# huggingface"
   ]
  },
  {
   "cell_type": "code",
   "execution_count": null,
   "metadata": {
    "colab": {
     "base_uri": "https://localhost:8080/"
    },
    "id": "p6Ajh0ZMcoZR",
    "outputId": "eda323ad-abac-419a-dcc7-b517d573fa58"
   },
   "outputs": [
    {
     "name": "stdout",
     "output_type": "stream",
     "text": [
      "\u001b[2K     \u001b[90m━━━━━━━━━━━━━━━━━━━━━━━━━━━━━━━━━━━━━━━━\u001b[0m \u001b[32m7.7/7.7 MB\u001b[0m \u001b[31m48.2 MB/s\u001b[0m eta \u001b[36m0:00:00\u001b[0m\n",
      "\u001b[2K     \u001b[90m━━━━━━━━━━━━━━━━━━━━━━━━━━━━━━━━━━━━━━━━\u001b[0m \u001b[32m302.0/302.0 kB\u001b[0m \u001b[31m25.9 MB/s\u001b[0m eta \u001b[36m0:00:00\u001b[0m\n",
      "\u001b[2K     \u001b[90m━━━━━━━━━━━━━━━━━━━━━━━━━━━━━━━━━━━━━━━━\u001b[0m \u001b[32m3.8/3.8 MB\u001b[0m \u001b[31m90.5 MB/s\u001b[0m eta \u001b[36m0:00:00\u001b[0m\n",
      "\u001b[2K     \u001b[90m━━━━━━━━━━━━━━━━━━━━━━━━━━━━━━━━━━━━━━━━\u001b[0m \u001b[32m1.3/1.3 MB\u001b[0m \u001b[31m71.7 MB/s\u001b[0m eta \u001b[36m0:00:00\u001b[0m\n",
      "\u001b[2K     \u001b[90m━━━━━━━━━━━━━━━━━━━━━━━━━━━━━━━━━━━━━━━━\u001b[0m \u001b[32m295.0/295.0 kB\u001b[0m \u001b[31m22.3 MB/s\u001b[0m eta \u001b[36m0:00:00\u001b[0m\n",
      "\u001b[?25h"
     ]
    }
   ],
   "source": [
    "pip install -q transformers"
   ]
  },
  {
   "cell_type": "code",
   "execution_count": null,
   "metadata": {
    "id": "jtb-zoAuc0eG"
   },
   "outputs": [],
   "source": [
    "from transformers import pipeline"
   ]
  },
  {
   "cell_type": "code",
   "execution_count": null,
   "metadata": {
    "colab": {
     "base_uri": "https://localhost:8080/",
     "height": 313,
     "referenced_widgets": [
      "70c5ea93dd0e427e9af7e1dc64f0fe99",
      "e447fd9898b54d739b4b996fbe1a4682",
      "61be83c6b6e04a509b9b724e7a431709",
      "64281432e2b04654a32f72a2d61beefd",
      "1a20a656e6f04cc0ba2a45f423991122",
      "8ce76531d61e4339b8dbe6c90f72fd9a",
      "aba22f23f1b244a3807325ffb0bd1bc1",
      "f5046f942c1e4ed199afa5c099f43d02",
      "985baa6708a943c6931deb4db64b7cf8",
      "3370d8f7eb9a4e919effdf120d61606a",
      "29aca5bc2ee444d0a46d648817fc9c14",
      "cbb9d203186a48289db093647aa5a34a",
      "285c83e5989f409387c1c024e4c15bc0",
      "2ae0b0073a7c40a189e928504d28e5d8",
      "8421ae3419714a19a039740bb2705fdf",
      "41a02ccbe53e4ae783ba804154ac690b",
      "44db3ae319a448eea739f3be17381992",
      "02ce6e9fe8fa4a95956825088c35141b",
      "e4c2ab90a1e7407bba66692d56d0539d",
      "73b5581de1864c0ca815324791a4a4da",
      "f470dde0ce1a45a1b85b2c1878b47d70",
      "733728d3dd8d4279944355271c67fbce",
      "23553a977a5c42edbdc23b8715a0e592",
      "d9352d1832d346ca8248ae1b0ffa66da",
      "e3745816a5d64769aa5ec57bca2c223b",
      "3a87e47862764cb8bcfce9b77457e480",
      "58932321d72d4039a10e33f7f0ecfbf9",
      "c970721ece3f4d47aeda2db6fd8cdcf7",
      "85c43c617dc141299cc2251b47e4f27e",
      "d219f98972174c57b2562cfab40d3e8c",
      "0f97a824703d449ebf10359631ed53fe",
      "f6d6dfe5d1bb4df3add91a7ee1b9d05b",
      "cd9d2f8ffbb243afb08ebd5dcd11037a",
      "53d598f254d74e13b8e3e51237a19b56",
      "0e8290df6b084150a3bad7d003e6b6a8",
      "13ab23983cff4215988d5e1ac191a70d",
      "9365b9abc9844992b260c4e13948cdd8",
      "b83e112eafcc47f4af136651ef5617f4",
      "e96b708fe99645a091d3ea2d3a307403",
      "7e4a6a21b6fc4c66921aea37e408ec6b",
      "ded080c558ce4f25941348af64536097",
      "064b508407e8440d8570c112fa8c6bfc",
      "eeb3424b5b534b10aa4efcd6518f77bb",
      "c95b5312971c4c3895f2972712f6c9ff"
     ]
    },
    "id": "aNkyQFoWdANF",
    "outputId": "b5a15462-2c0d-4024-9117-1136c1f61475"
   },
   "outputs": [
    {
     "name": "stderr",
     "output_type": "stream",
     "text": [
      "No model was supplied, defaulted to distilbert-base-uncased-finetuned-sst-2-english and revision af0f99b (https://huggingface.co/distilbert-base-uncased-finetuned-sst-2-english).\n",
      "Using a pipeline without specifying a model name and revision in production is not recommended.\n"
     ]
    },
    {
     "data": {
      "application/vnd.jupyter.widget-view+json": {
       "model_id": "70c5ea93dd0e427e9af7e1dc64f0fe99",
       "version_major": 2,
       "version_minor": 0
      },
      "text/plain": [
       "Downloading (…)lve/main/config.json:   0%|          | 0.00/629 [00:00<?, ?B/s]"
      ]
     },
     "metadata": {},
     "output_type": "display_data"
    },
    {
     "data": {
      "application/vnd.jupyter.widget-view+json": {
       "model_id": "cbb9d203186a48289db093647aa5a34a",
       "version_major": 2,
       "version_minor": 0
      },
      "text/plain": [
       "Downloading model.safetensors:   0%|          | 0.00/268M [00:00<?, ?B/s]"
      ]
     },
     "metadata": {},
     "output_type": "display_data"
    },
    {
     "data": {
      "application/vnd.jupyter.widget-view+json": {
       "model_id": "23553a977a5c42edbdc23b8715a0e592",
       "version_major": 2,
       "version_minor": 0
      },
      "text/plain": [
       "Downloading (…)okenizer_config.json:   0%|          | 0.00/48.0 [00:00<?, ?B/s]"
      ]
     },
     "metadata": {},
     "output_type": "display_data"
    },
    {
     "data": {
      "application/vnd.jupyter.widget-view+json": {
       "model_id": "53d598f254d74e13b8e3e51237a19b56",
       "version_major": 2,
       "version_minor": 0
      },
      "text/plain": [
       "Downloading (…)solve/main/vocab.txt:   0%|          | 0.00/232k [00:00<?, ?B/s]"
      ]
     },
     "metadata": {},
     "output_type": "display_data"
    }
   ],
   "source": [
    "sentiment_pipeline = pipeline(\"sentiment-analysis\")"
   ]
  },
  {
   "cell_type": "code",
   "execution_count": null,
   "metadata": {
    "id": "LAFL0fxfdFa7"
   },
   "outputs": [],
   "source": [
    "data = [\"I love you\", \"I hate you\" , 'I do not kow']"
   ]
  },
  {
   "cell_type": "code",
   "execution_count": null,
   "metadata": {
    "colab": {
     "base_uri": "https://localhost:8080/"
    },
    "id": "ns0oiY6VdMu2",
    "outputId": "be806eb9-e150-4d2b-bdd6-9e63b69bdff6"
   },
   "outputs": [
    {
     "data": {
      "text/plain": [
       "[{'label': 'POSITIVE', 'score': 0.9998656511306763},\n",
       " {'label': 'NEGATIVE', 'score': 0.9991129040718079},\n",
       " {'label': 'NEGATIVE', 'score': 0.8985359072685242}]"
      ]
     },
     "execution_count": 20,
     "metadata": {},
     "output_type": "execute_result"
    }
   ],
   "source": [
    "sentiment_pipeline(data)"
   ]
  },
  {
   "cell_type": "code",
   "execution_count": null,
   "metadata": {
    "id": "bGoa4TwBFjr6"
   },
   "outputs": [],
   "source": []
  }
 ],
 "metadata": {
  "colab": {
   "provenance": []
  },
  "kernelspec": {
   "display_name": "Python 3 (ipykernel)",
   "language": "python",
   "name": "python3"
  },
  "language_info": {
   "codemirror_mode": {
    "name": "ipython",
    "version": 3
   },
   "file_extension": ".py",
   "mimetype": "text/x-python",
   "name": "python",
   "nbconvert_exporter": "python",
   "pygments_lexer": "ipython3",
   "version": "3.11.6"
  },
  "widgets": {
   "application/vnd.jupyter.widget-state+json": {
    "state": {},
    "version_major": 2,
    "version_minor": 0
   }
  }
 },
 "nbformat": 4,
 "nbformat_minor": 4
}
