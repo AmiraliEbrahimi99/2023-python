{
 "cells": [
  {
   "cell_type": "markdown",
   "id": "b95512ec-6399-487c-80b3-83e5172921f5",
   "metadata": {},
   "source": [
    "**Assignment: Rock, Paper, Scissors Game**\r\n",
    "\r\n",
    "**Objective:**\r\n",
    "Write a Python program that simulates a simple Rock, Paper, Scissors game between the user and the computer.\r\n",
    "\r\n",
    "**Requirements:**\r\n",
    "1. The game should start with a welcoming m rules.\r\n",
    "2. The user should be able to input their choice (Rock, Paper, or Scissors).\r\n",
    "3. The computer should randomly select its choice (you can use the random module for this).\r\n",
    "4. Determine the winner based on the rules (Rock beats Scissors, Scissors beats Paper, Paper beats Rock, or it's a tie).\r\n",
    "5. Display the result and ask the user if they want to play again.\r\n",
    "6. Keep track of the number of games played and the number of games won by the user.\r\n",
    "7. End the game when the user decid rall winner at the end.\r\n",
    "\r\n",
    "Good luck with your Rock, Paper, Scissors game project!\r\n"
   ]
  },
  {
   "cell_type": "code",
   "execution_count": null,
   "id": "0ddb92a1-0852-4feb-9a56-7e4bc820eab7",
   "metadata": {},
   "outputs": [],
   "source": []
  }
 ],
 "metadata": {
  "kernelspec": {
   "display_name": "",
   "name": ""
  },
  "language_info": {
   "name": ""
  },
  "widgets": {
   "application/vnd.jupyter.widget-state+json": {
    "state": {},
    "version_major": 2,
    "version_minor": 0
   }
  }
 },
 "nbformat": 4,
 "nbformat_minor": 5
}
