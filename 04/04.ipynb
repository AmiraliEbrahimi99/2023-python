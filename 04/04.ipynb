{
 "cells": [
  {
   "cell_type": "code",
   "execution_count": 2,
   "id": "4702ab82-9469-4f14-a9fc-75de18575212",
   "metadata": {},
   "outputs": [],
   "source": [
    "import random\n",
    "\n",
    "class Player:\n",
    "    def __init__(self, name, position):\n",
    "        self.name = name\n",
    "        self.position = position\n",
    "\n",
    "    def __str__(self):\n",
    "        return f\"{self.name}, Position : {self.position}\"\n",
    "\n",
    "class Team:\n",
    "    def __init__(self, name):\n",
    "        self.name = name\n",
    "        self.players = []\n",
    "        \n",
    "    def __str__(self):\n",
    "        return f\"{self.name}\"\n",
    "        \n",
    "    def add_player(self, player):\n",
    "        self.players.append(player)\n",
    "\n",
    "    def list_players(self):\n",
    "        for player in self.players:\n",
    "            print(player)\n",
    "\n",
    "class Match:\n",
    "    def __init__(self, team1, team2):\n",
    "        self.team1 = team1\n",
    "        self.team2 = team2\n",
    "\n",
    "    def play_match(self):\n",
    "        team1_goal = random.randint(0,5)\n",
    "        team2_goal = random.randint(0,5)\n",
    "        if team1_goal > team2_goal : \n",
    "            print(f\"Match between {self.team1} and {self.team2}. Winner: {self.team1}!\")\n",
    "        elif team2_goal <= team1_goal : \n",
    "            print(f\"Match between {self.team1} and {self.team2}. Winner: {self.team2}!\")       \n",
    "        else : \n",
    "            print(f\"Match between {self.team1} and {self.team2}. These two teams drew\")     \n",
    "\n",
    "class NationalTeam(Team):  # Inherits from Team\n",
    "    def __init__(self, name, country):\n",
    "        super().__init__(name)  # Initializes the parent class (Team)\n",
    "        self.country = country  # New attribute specific to NationalTeam\n",
    "\n",
    "    def represent_country(self):\n",
    "        print(f\"{self.name} represents {self.country}.\")\n",
    "\n",
    "\n"
   ]
  },
  {
   "cell_type": "code",
   "execution_count": 4,
   "id": "bddec2b4-3ef4-47c3-ab52-88072c857107",
   "metadata": {},
   "outputs": [
    {
     "name": "stdout",
     "output_type": "stream",
     "text": [
      "Match between Real Madrid and Bayern. Winner: Real Madrid!\n",
      "\n",
      "Team 1 Players:\n",
      "Soroush Sotoudeh, Position : Striker\n",
      "CR7, Position : Striker\n"
     ]
    }
   ],
   "source": [
    "# Creating players\n",
    "soroush = Player(\"Soroush Sotoudeh\", \"Striker\")\n",
    "ali = Player(\"Ali Karimi\", \"mid\")\n",
    "ronaldo = Player('CR7', 'Striker')\n",
    "\n",
    "# Creating teams and adding players\n",
    "real = Team(\"Real Madrid\")\n",
    "real.add_player(soroush)\n",
    "real.add_player(ronaldo)\n",
    "\n",
    "bayern = Team(\"Bayern\")\n",
    "bayern.add_player(ali)\n",
    "\n",
    "# Organizing and playing a match\n",
    "match = Match(real, bayern)\n",
    "match.play_match()\n",
    "\n",
    "# Listing players in a team\n",
    "print(\"\\nTeam 1 Players:\")\n",
    "real.list_players()\n"
   ]
  },
  {
   "cell_type": "code",
   "execution_count": 5,
   "id": "536ad7f9-6db6-4db3-b66d-5e5ced4a11e7",
   "metadata": {},
   "outputs": [
    {
     "name": "stdout",
     "output_type": "stream",
     "text": [
      "Dragons represents Wales.\n",
      "Team Players:\n",
      "Gareth Bale, Position: Forward\n",
      "Aaron Ramsey, Position: Midfielder\n"
     ]
    }
   ],
   "source": [
    "# Creating a national team\n",
    "national_team = NationalTeam(\"Dragons\", \"Wales\")\n",
    "\n",
    "# Adding players\n",
    "national_team.add_player(Player(\"Gareth Bale\", \"Forward\"))\n",
    "national_team.add_player(Player(\"Aaron Ramsey\", \"Midfielder\"))\n",
    "\n",
    "# Using methods from both the parent and the child class\n",
    "national_team.represent_country()  # Specific to NationalTeam\n",
    "print(\"Team Players:\")\n",
    "for player in national_team.players:\n",
    "    print(f\"{player.name}, Position: {player.position}\")\n"
   ]
  },
  {
   "cell_type": "code",
   "execution_count": null,
   "id": "16a14217-9587-41f1-bb5c-20859f1c3689",
   "metadata": {},
   "outputs": [],
   "source": []
  }
 ],
 "metadata": {
  "kernelspec": {
   "display_name": "Python 3 (ipykernel)",
   "language": "python",
   "name": "python3"
  },
  "language_info": {
   "codemirror_mode": {
    "name": "ipython",
    "version": 3
   },
   "file_extension": ".py",
   "mimetype": "text/x-python",
   "name": "python",
   "nbconvert_exporter": "python",
   "pygments_lexer": "ipython3",
   "version": "3.11.6"
  },
  "widgets": {
   "application/vnd.jupyter.widget-state+json": {
    "state": {},
    "version_major": 2,
    "version_minor": 0
   }
  }
 },
 "nbformat": 4,
 "nbformat_minor": 5
}
