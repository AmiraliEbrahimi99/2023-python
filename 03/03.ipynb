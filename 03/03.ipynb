{
 "cells": [
  {
   "cell_type": "markdown",
   "id": "f7029e59-2cb2-4035-b2c9-eed4055913af",
   "metadata": {},
   "source": [
    "# Venv"
   ]
  },
  {
   "cell_type": "markdown",
   "id": "36a71a18-cf4b-496c-b8f0-6272a6d90be6",
   "metadata": {},
   "source": [
    "A virtual environment, or venv, is an isolated Python environment that allows you to install and manage packages specific to a particular project. This prevents conflicts with packages you may have installed globally for other projects.\r\n",
    "\r\n",
    "Creating a virtual environment is simple. Open a terminal window and navigate to the directory where you want to create the virtual environment. Then, type the following command:"
   ]
  },
  {
   "cell_type": "markdown",
   "id": "d825c944-ae5f-46fe-ae4f-85a17e513bb9",
   "metadata": {},
   "source": [
    "<span style=\"color: blue;\">python -m venv your_env_name</span>\r\n"
   ]
  },
  {
   "cell_type": "markdown",
   "id": "e590d6b2-76e2-4330-a2b0-41ceddf7a0cc",
   "metadata": {},
   "source": [
    "This will create a directory called your_env_name that contains the Python executable and other necessary files for your virtual environment.\n",
    "\n",
    "To activate the virtual environment, navigate to the your_env_name directory and type the following command:"
   ]
  },
  {
   "cell_type": "markdown",
   "id": "495dd4c2-2f78-4ab0-b479-4882bb415aa8",
   "metadata": {},
   "source": [
    "<span style=\"color: blue;\">Scripts/Activate.ps1</span>\n"
   ]
  },
  {
   "cell_type": "markdown",
   "id": "7b37f746-8f48-4aa4-9917-b1a6a4637e34",
   "metadata": {},
   "source": [
    "If you got a error type this : "
   ]
  },
  {
   "cell_type": "markdown",
   "id": "4d9b34e2-4d86-4fba-bd90-fb3ac3068ce4",
   "metadata": {},
   "source": [
    "<span style=\"color: blue;\">Set-ExecutionPolicy -ExecutionPolicy Bypass -Scope Process -Force</span>\n"
   ]
  },
  {
   "cell_type": "markdown",
   "id": "bf248a42-968c-4c49-b793-72c57411f0ec",
   "metadata": {},
   "source": [
    "\n",
    "This command sets the PowerShell execution policy to Bypass for the current process. This means that any PowerShell scripts that are run in the current process will not be subject to any security restrictions. The Bypass policy is the least restrictive policy and should only be used in situations where you trust the scripts that you are running."
   ]
  },
  {
   "cell_type": "markdown",
   "id": "c19e68da-5663-4ba8-87de-3a54df49490d",
   "metadata": {},
   "source": [
    "# Functions "
   ]
  },
  {
   "cell_type": "markdown",
   "id": "e291be9e-9623-499c-98cb-a73573cf6c3d",
   "metadata": {},
   "source": [
    "ref : https://www.w3schools.com/python/python_functions.asp"
   ]
  },
  {
   "cell_type": "markdown",
   "id": "14cc33be-ec4b-4b2e-a584-758780f5c6ca",
   "metadata": {},
   "source": [
    "## Calling a Function\r\n"
   ]
  },
  {
   "cell_type": "code",
   "execution_count": 8,
   "id": "9a2b1f3d-3e2d-4760-b9b8-9e1aa0a88ba8",
   "metadata": {},
   "outputs": [],
   "source": [
    "def my_function():\n",
    "  print(\"Hello Wolrd!\")"
   ]
  },
  {
   "cell_type": "code",
   "execution_count": 9,
   "id": "971b4257-b5eb-4b0c-a82a-eb9da819f369",
   "metadata": {},
   "outputs": [
    {
     "name": "stdout",
     "output_type": "stream",
     "text": [
      "Hello Wolrd!\n"
     ]
    }
   ],
   "source": [
    "my_function()"
   ]
  },
  {
   "cell_type": "markdown",
   "id": "0d2ea8e7-aaa7-4ee0-b88f-461c00fb0061",
   "metadata": {},
   "source": [
    "## Arguments"
   ]
  },
  {
   "cell_type": "code",
   "execution_count": 10,
   "id": "a0e7d517-70c6-464d-be55-fc48d25b7e0a",
   "metadata": {},
   "outputs": [],
   "source": [
    "def calc_area (x , y) : \n",
    "    area = x * y \n",
    "    return area "
   ]
  },
  {
   "cell_type": "code",
   "execution_count": 12,
   "id": "196cdf3b-bdc7-4527-9004-88d86cf54de6",
   "metadata": {},
   "outputs": [
    {
     "name": "stdout",
     "output_type": "stream",
     "text": [
      "The area is :30\n"
     ]
    }
   ],
   "source": [
    "area = calc_area(5 ,6)\n",
    "print(f'The area is :{area}')"
   ]
  },
  {
   "cell_type": "markdown",
   "id": "610d2dda-eec4-42d1-86eb-e9f903a46662",
   "metadata": {},
   "source": [
    "## *args"
   ]
  },
  {
   "cell_type": "markdown",
   "id": "b8d0587d-817f-4422-91ca-2b748d7ed065",
   "metadata": {},
   "source": [
    "If you do not know how many arguments that will be passed into your function, add a * before the parameter name in the function definition.\r\n",
    "\r\n",
    "This way the function will receive a tuple of arguments, and can access the items accordingly:"
   ]
  },
  {
   "cell_type": "code",
   "execution_count": 16,
   "id": "426f0ea5-ba73-4183-b3c9-6fc8ed450ea6",
   "metadata": {},
   "outputs": [
    {
     "name": "stdout",
     "output_type": "stream",
     "text": [
      "The youngest child is Linus\n"
     ]
    }
   ],
   "source": [
    "def my_function(*kids):\n",
    "  print(\"The youngest child is \" + kids[2])\n",
    "\n",
    "my_function(\"Emil\", \"Tobias\", \"Linus\")"
   ]
  },
  {
   "cell_type": "code",
   "execution_count": null,
   "id": "3780625e-7e4f-42fa-9226-d69c4b6edc03",
   "metadata": {},
   "outputs": [],
   "source": []
  },
  {
   "cell_type": "markdown",
   "id": "3658a09a-0977-4fe3-9085-e9fc834169fc",
   "metadata": {},
   "source": [
    "## **kwargs"
   ]
  },
  {
   "cell_type": "code",
   "execution_count": 42,
   "id": "c9d1fa89-6c95-4210-bdcb-c879501c117e",
   "metadata": {},
   "outputs": [],
   "source": [
    "def calc(**kwargs) : \n",
    "    if len(kwargs) > 2 : \n",
    "        volume = kwargs['x'] * kwargs['y'] * kwargs['z']\n",
    "        print(f'The volume is {volume}')\n",
    "    else :\n",
    "        area = kwargs['x'] * kwargs['y']\n",
    "        print(f'The area is {area}')"
   ]
  },
  {
   "cell_type": "code",
   "execution_count": 43,
   "id": "18f53529-f32a-42c7-9123-33f3ef280a1e",
   "metadata": {},
   "outputs": [
    {
     "name": "stdout",
     "output_type": "stream",
     "text": [
      "The volume is 124315\n"
     ]
    }
   ],
   "source": [
    "calc(x =23 ,y = 23 , z = 235)"
   ]
  },
  {
   "cell_type": "code",
   "execution_count": 44,
   "id": "3b6b8842-864f-4fc5-9aa1-80c8cdd38f9c",
   "metadata": {},
   "outputs": [
    {
     "name": "stdout",
     "output_type": "stream",
     "text": [
      "The area is 8\n"
     ]
    }
   ],
   "source": [
    "calc(x= 2 , y =4)"
   ]
  },
  {
   "cell_type": "code",
   "execution_count": null,
   "id": "55f9e638-b0fe-4d74-9f8d-fb878a773d47",
   "metadata": {},
   "outputs": [],
   "source": []
  }
 ],
 "metadata": {
  "kernelspec": {
   "display_name": "Python 3 (ipykernel)",
   "language": "python",
   "name": "python3"
  },
  "language_info": {
   "codemirror_mode": {
    "name": "ipython",
    "version": 3
   },
   "file_extension": ".py",
   "mimetype": "text/x-python",
   "name": "python",
   "nbconvert_exporter": "python",
   "pygments_lexer": "ipython3",
   "version": "3.11.6"
  },
  "widgets": {
   "application/vnd.jupyter.widget-state+json": {
    "state": {},
    "version_major": 2,
    "version_minor": 0
   }
  }
 },
 "nbformat": 4,
 "nbformat_minor": 5
}
