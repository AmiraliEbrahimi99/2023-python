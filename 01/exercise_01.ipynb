{
 "cells": [
  {
   "cell_type": "markdown",
   "id": "df58ebcf-8abc-48c7-b0db-35806c66be4f",
   "metadata": {},
   "source": [
    "# List "
   ]
  },
  {
   "cell_type": "markdown",
   "id": "e4d19184-27d1-4e1a-ad64-3370b5c77114",
   "metadata": {},
   "source": [
    "### Creating a List"
   ]
  },
  {
   "cell_type": "code",
   "execution_count": null,
   "id": "b8716e15-3047-4994-bfd1-8b79efa1044b",
   "metadata": {},
   "outputs": [],
   "source": [
    "# Create a list named \"countries\" with the names of three different countries.\n",
    "countries = None"
   ]
  },
  {
   "cell_type": "markdown",
   "id": "54f680d9-9a65-42ed-b28d-0c43b2035233",
   "metadata": {},
   "source": [
    "###  Accessing List Elements"
   ]
  },
  {
   "cell_type": "code",
   "execution_count": null,
   "id": "15bb9c94-209f-47ce-8801-038165bbc04c",
   "metadata": {},
   "outputs": [],
   "source": [
    "numbers = [10, 20, 30, 40, 50]\n",
    "# Fill in the blank to access the second element.\n",
    "\n",
    "print(None)\n"
   ]
  },
  {
   "cell_type": "markdown",
   "id": "14c1d26a-3f3f-4737-ba5d-02e594bd4a6c",
   "metadata": {},
   "source": [
    "### Modifying List Elements"
   ]
  },
  {
   "cell_type": "code",
   "execution_count": null,
   "id": "7ea19dd4-2e94-47bf-9382-93e041e4c03e",
   "metadata": {},
   "outputs": [],
   "source": [
    "colors = [\"red\", \"blue\", \"yellow\"]\n",
    "None  # Fill in the blank to change the second element.\n",
    "\n",
    "print(colors)"
   ]
  },
  {
   "cell_type": "markdown",
   "id": "b9ac7359-4e4a-4a0e-81ee-878bd8e547df",
   "metadata": {},
   "source": [
    "### Adding Elements to a List"
   ]
  },
  {
   "cell_type": "code",
   "execution_count": null,
   "id": "657325d4-0023-4d23-b7a1-e0b30bd7da31",
   "metadata": {},
   "outputs": [],
   "source": [
    "# add a new country to countries list \n",
    "\n",
    "None \n",
    "\n",
    "print(countries)"
   ]
  },
  {
   "cell_type": "markdown",
   "id": "cc1f5fbe-dc87-4414-baad-51346d4cb3fb",
   "metadata": {},
   "source": [
    "### Removing an Element from a List"
   ]
  },
  {
   "cell_type": "code",
   "execution_count": null,
   "id": "306b023d-bc30-4035-a473-b7c814c6a658",
   "metadata": {},
   "outputs": [],
   "source": [
    "# remove second country from the list \n",
    "\n",
    "None "
   ]
  },
  {
   "cell_type": "markdown",
   "id": "89bc668d-c971-4aaa-83e7-26ce8d666589",
   "metadata": {},
   "source": [
    "# Dict "
   ]
  },
  {
   "cell_type": "markdown",
   "id": "14589385-3ea5-42f5-81fe-bda80057d694",
   "metadata": {},
   "source": [
    "### creating dict"
   ]
  },
  {
   "cell_type": "code",
   "execution_count": null,
   "id": "954e9669-edfa-4097-976f-2a603b9eb45b",
   "metadata": {},
   "outputs": [],
   "source": [
    "# Create a Dict that contains the city's names with their population. \n",
    "\n",
    "pop = None "
   ]
  },
  {
   "cell_type": "markdown",
   "id": "0755db4a-b035-4aa0-aed7-8f9c6589b0e6",
   "metadata": {},
   "source": [
    "### Modifying "
   ]
  },
  {
   "cell_type": "code",
   "execution_count": null,
   "id": "00016a61-aeb7-490c-aff9-67c7c3c3832c",
   "metadata": {},
   "outputs": [],
   "source": [
    "# Edit the population of two cities.  \n",
    "None \n",
    "\n",
    "print(pop)"
   ]
  },
  {
   "cell_type": "markdown",
   "id": "693652a6-88a6-47dd-a2ae-a5e06af15a22",
   "metadata": {},
   "source": [
    " ### Removing  Key-Value Pairs"
   ]
  },
  {
   "cell_type": "code",
   "execution_count": null,
   "id": "329483b9-de30-48c7-aa9a-1cf4bdcae04b",
   "metadata": {},
   "outputs": [],
   "source": [
    "# Remove one city's data.\n",
    "None \n",
    "\n",
    "print(pop)"
   ]
  },
  {
   "cell_type": "markdown",
   "id": "26416e7b-e129-4c8b-bdef-3f1c2c88dd37",
   "metadata": {},
   "source": [
    "### Adding Key-Value Pairs"
   ]
  },
  {
   "cell_type": "code",
   "execution_count": null,
   "id": "6da7519c-c542-4ca6-a9b4-a7b264725531",
   "metadata": {},
   "outputs": [],
   "source": [
    "# Add a city with its population to the dict.\n",
    "\n",
    "None \n",
    "\n",
    "print(pop)"
   ]
  },
  {
   "cell_type": "code",
   "execution_count": null,
   "id": "6697d536-25cc-4d9d-a534-72c3222532c9",
   "metadata": {},
   "outputs": [],
   "source": []
  },
  {
   "cell_type": "code",
   "execution_count": null,
   "id": "c9fedfc5-ad0a-4356-9980-e152e2785de7",
   "metadata": {},
   "outputs": [],
   "source": []
  },
  {
   "cell_type": "code",
   "execution_count": null,
   "id": "02d8fbe4-60c6-442f-8599-11adb2ff3550",
   "metadata": {},
   "outputs": [],
   "source": []
  },
  {
   "cell_type": "code",
   "execution_count": null,
   "id": "60fbf535-a64d-412a-b23e-87c3b467a49d",
   "metadata": {},
   "outputs": [],
   "source": []
  }
 ],
 "metadata": {
  "kernelspec": {
   "display_name": "Python 3 (ipykernel)",
   "language": "python",
   "name": "python3"
  },
  "language_info": {
   "codemirror_mode": {
    "name": "ipython",
    "version": 3
   },
   "file_extension": ".py",
   "mimetype": "text/x-python",
   "name": "python",
   "nbconvert_exporter": "python",
   "pygments_lexer": "ipython3",
   "version": "3.11.6"
  },
  "widgets": {
   "application/vnd.jupyter.widget-state+json": {
    "state": {},
    "version_major": 2,
    "version_minor": 0
   }
  }
 },
 "nbformat": 4,
 "nbformat_minor": 5
}
